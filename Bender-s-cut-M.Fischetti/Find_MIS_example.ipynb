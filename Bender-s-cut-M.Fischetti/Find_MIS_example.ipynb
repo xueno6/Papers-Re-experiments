{
 "cells": [
  {
   "cell_type": "code",
   "execution_count": 3,
   "id": "63fd045a",
   "metadata": {},
   "outputs": [],
   "source": [
    "import numpy as np\n",
    "import random\n",
    "import gurobipy as gp\n",
    "from gurobipy import GRB\n",
    "\n",
    "\n",
    "#This is the example in the paper \"Identifying Minimally Infeasible Subsystems of Inequalities\"\n",
    "A=np.array([[1,-1],[0,2],[-1,-1],[0,-1],[-2,-1]])\n",
    "b=np.array([[0],[1],[-2],[-2],[-4]])\n",
    "\n",
    "M = np.r_[A.T, b.T,np.eye(len(A))]\n",
    "c = np.zeros((sum(A.shape) + 1, 1))\n",
    "c[A.shape[1]] = -1"
   ]
  },
  {
   "cell_type": "markdown",
   "id": "56f647e7",
   "metadata": {},
   "source": [
    "Initial Constraint\n",
    "\n",
    "$$Ax\\leq b$$"
   ]
  },
  {
   "cell_type": "markdown",
   "id": "0ef2d6ec",
   "metadata": {},
   "source": [
    "The index of IIS is the support of the vertices of the polyhedron\n",
    "\n",
    "$$A^T y=0$$\n",
    "$$b^T y\\leq -1$$\n",
    "$$ y \\geq 0$$"
   ]
  },
  {
   "cell_type": "code",
   "execution_count": 4,
   "id": "3363eeed",
   "metadata": {},
   "outputs": [
    {
     "data": {
      "text/plain": [
       "array([[ 1.,  0., -1.,  0., -2.],\n",
       "       [-1.,  2., -1., -1., -1.],\n",
       "       [ 0.,  1., -2., -2., -4.],\n",
       "       [ 1.,  0.,  0.,  0.,  0.],\n",
       "       [ 0.,  1.,  0.,  0.,  0.],\n",
       "       [ 0.,  0.,  1.,  0.,  0.],\n",
       "       [ 0.,  0.,  0.,  1.,  0.],\n",
       "       [ 0.,  0.,  0.,  0.,  1.]])"
      ]
     },
     "execution_count": 2,
     "metadata": {},
     "output_type": "execute_result"
    }
   ],
   "source": [
    "M"
   ]
  },
  {
   "cell_type": "code",
   "execution_count": 5,
   "id": "4ecc924b",
   "metadata": {},
   "outputs": [
    {
     "data": {
      "text/plain": [
       "array([[ 0.],\n",
       "       [ 0.],\n",
       "       [-1.],\n",
       "       [ 0.],\n",
       "       [ 0.],\n",
       "       [ 0.],\n",
       "       [ 0.],\n",
       "       [ 0.]])"
      ]
     },
     "execution_count": 3,
     "metadata": {},
     "output_type": "execute_result"
    }
   ],
   "source": [
    "c"
   ]
  },
  {
   "cell_type": "code",
   "execution_count": 9,
   "id": "ed551fcc",
   "metadata": {},
   "outputs": [
    {
     "name": "stdout",
     "output_type": "stream",
     "text": [
      "The optimal objective is %g\n",
      "[0.         0.33333333 0.         0.66666667 0.        ]\n",
      "Optimization was stopped with status 3\n",
      "The optimal objective is %g\n",
      "[0.8 0.6 0.  0.  0.4]\n",
      "The optimal objective is %g\n",
      "[1. 1. 1. 0. 0.]\n",
      "The optimal objective is %g\n",
      "[1. 1. 1. 0. 0.]\n"
     ]
    }
   ],
   "source": [
    "m=gp.Model()\n",
    "x = m.addMVar ( shape=A.shape[0], lb=0, vtype =GRB.CONTINUOUS , name =\"x\")\n",
    "m.addConstr (A.T @ x == 0 , name =\"c\")\n",
    "m.addConstr (b.reshape(-1)@x ==-1, name='b')\n",
    "w=np.array([1,1,1,1,1])\n",
    "m.setObjective (w @ x, GRB. MAXIMIZE )\n",
    "m.setParam('OutputFlag', 0)\n",
    "for i in range(A.shape[0]):\n",
    "    x.ub=np.inf*np.ones(A.shape[0])\n",
    "    x[i].ub=0\n",
    "    m.optimize()\n",
    "    status = m.status\n",
    "    if status == GRB.OPTIMAL:\n",
    "        print('The optimal objective is %g')\n",
    "        print(x.x)\n",
    "    if status == GRB.INF_OR_UNBD or status == GRB.INFEASIBLE:\n",
    "        print('Optimization was stopped with status %d' % status)\n",
    "        pass"
   ]
  },
  {
   "cell_type": "code",
   "execution_count": 10,
   "id": "1ce12f3d",
   "metadata": {},
   "outputs": [
    {
     "data": {
      "text/plain": [
       "[0, 1, 2]"
      ]
     },
     "execution_count": 8,
     "metadata": {},
     "output_type": "execute_result"
    }
   ],
   "source": [
    "support = list(map(lambda x: x[1] if x[0]!=0 else None,zip(x.x,[0,1,2,3,4,5])))\n",
    "support = list(filter(lambda x: x !=None , support))\n",
    "support"
   ]
  }
 ],
 "metadata": {
  "kernelspec": {
   "display_name": "Python 3.8 (XPython)",
   "language": "python",
   "name": "xpython"
  },
  "language_info": {
   "file_extension": ".py",
   "mimetype": "text/x-python",
   "name": "python",
   "version": "3.8.10"
  }
 },
 "nbformat": 4,
 "nbformat_minor": 5
}
