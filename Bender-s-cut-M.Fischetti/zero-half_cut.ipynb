{
 "cells": [
  {
   "cell_type": "markdown",
   "id": "d42ce4cc",
   "metadata": {},
   "source": [
    "# A simple example of zero-half cut\n",
    "\n",
    "Zero-half cuts are based on the observation that when the lefthand side of an inequality consists of integral variables and integral coefficients, then the righthand side can be rounded down to produce a zero-half cut. Zero-half cuts are also known as 0-1/2 cuts. To understand how zero-half cuts are generated, consider these two constraints over five integer variables with integer coefficients:\n",
    "$$\n",
    "\\begin{array}{lllllll}\n",
    " x_1& + 2x_2 &+  x_3 &+ 3x_4 &     &\\leq 8  &\\qquad (1)\\\\\n",
    " x_1&      & + 3x_3 &+  x_4 &+ 2x_5  &\\leq  5 & \\qquad (2) \\\\\n",
    "\\end{array}\n",
    " $$\n",
    " \n",
    "(1)+(2) we get \n",
    "\n",
    "$$\n",
    "\\begin{array}{lllllll}\n",
    " 2x_1& + 2x_2 &+ 4x_3 &+ 4x_4& + 2x_5& \\leq 13 &\\qquad (3) \\\\\n",
    "\\end{array}\n",
    "$$\n",
    "\n",
    "Divide that constraint by 2\n",
    "\n",
    "$$\n",
    "\\begin{array}{lllllll}\n",
    " x_1& + x_2 &+ 2x_3 &+ 2x_4& + x_5& \\leq 6.5 &\\qquad (4) \\\\\n",
    "\\end{array}\n",
    "$$\n",
    "\n",
    "Since $x_i$ is integer, the RHS can be round down to the nearest integer\n",
    "\n",
    "$$\n",
    "\\begin{array}{lllllll}\n",
    " x_1& + x_2 &+ 2x_3 &+ 2x_4& + x_5& \\leq 6 &\\qquad (zero-half \\ cut) \\\\\n",
    "\\end{array}\n",
    "$$"
   ]
  },
  {
   "cell_type": "markdown",
   "id": "518c9566",
   "metadata": {},
   "source": [
    "# Process of  implement \n",
    "\n",
    "In paper \"Embedding $\\{0,\\frac{1}{2}\\}$-Cuts in a Branch-and-Cut Framework A Computational\"\n",
    "\n",
    "for a given relaxation solution $x^*$, the separation problem is\n",
    "$$\n",
    "z_{SEP} = \\min \\{ {s^*}^T \\mu : \\mu \\in F(\\bar A, \\bar b)\\}\n",
    "$$\n",
    "\n",
    "where \n",
    "\n",
    "$s^*=b-A x^*$,\n",
    "\n",
    "$F(\\bar A ,\\bar b) = \\{ \\mu \\in \\{0,1\\}^m : \\bar b ^T \\mu =1 (mod 2), \\ \\bar A ^T \\mu =0 (mod 2)\\} $\n",
    "\n",
    "Let $G=(V,E)$, a undirected multigraph in which vertex $j$ presents column $j$ in $\\bar A $ and edge $e_i$ denote  row $i \\in M$\n",
    "\n",
    "For each edge, its weight is $s^* _i $. the edge is labeled odd if $\\bar b_i=1$ else even"
   ]
  },
  {
   "cell_type": "markdown",
   "id": "267c803f",
   "metadata": {},
   "source": [
    "In the example above\n",
    "\n",
    "$$\n",
    "\\bar A =\\left[\\begin{array}{ccccc}\n",
    "1 & 0 & 1 &1 &0\\\\\n",
    "1 & 0 & 1 &1 &0\n",
    "\\end{array}\\right]\n",
    "$$\n",
    "\n",
    "$$\n",
    "\\bar b =\\left[\\begin{array}{c}\n",
    "0 \\\\\n",
    "1 \n",
    "\\end{array}\\right]\n",
    "$$\n",
    "\n",
    "$$\n",
    "\\mu =\\left[\\begin{array}{c}\n",
    "1 \\\\\n",
    "1 \n",
    "\\end{array}\\right]\n",
    "$$\n"
   ]
  },
  {
   "cell_type": "code",
   "execution_count": 17,
   "id": "b945291f",
   "metadata": {},
   "outputs": [],
   "source": [
    "import gurobipy as gp\n",
    "from gurobipy import GRB\n",
    "import numpy as np\n",
    "import random\n",
    "from itertools import combinations,permutations\n",
    "\n",
    "m=30\n",
    "c=np.zeros((m,m))\n",
    "pro=0.05\n",
    "C=10\n",
    "\n",
    "for i in range(m):\n",
    "    for j in range(m):\n",
    "        if random.random()>pro and i!=j:\n",
    "            c[i][j]=random.randint(0, C)\n"
   ]
  },
  {
   "cell_type": "code",
   "execution_count": 20,
   "id": "c5fedc46",
   "metadata": {},
   "outputs": [
    {
     "name": "stdout",
     "output_type": "stream",
     "text": [
      "Changed value of parameter Precrush to 1\n",
      "   Prev: 0  Min: 0  Max: 1  Default: 0\n",
      "Changed value of parameter lazyConstraints to 1\n",
      "   Prev: 0  Min: 0  Max: 1  Default: 0\n",
      "Changed value of parameter Heuristics to 0.0\n",
      "   Prev: 0.05  Min: 0.0  Max: 1.0  Default: 0.05\n",
      "Changed value of parameter Cuts to 0\n",
      "   Prev: -1  Min: -1  Max: 3  Default: -1\n",
      "Gurobi Optimizer version 9.1.1 build v9.1.1rc0 (win64)\n",
      "Thread count: 6 physical cores, 12 logical processors, using up to 12 threads\n",
      "Optimize a model with 8120 rows, 435 columns and 24360 nonzeros\n",
      "Model fingerprint: 0xaa71518f\n",
      "Variable types: 0 continuous, 435 integer (435 binary)\n",
      "Coefficient statistics:\n",
      "  Matrix range     [1e+00, 1e+00]\n",
      "  Objective range  [1e+00, 9e+00]\n",
      "  Bounds range     [1e+00, 1e+00]\n",
      "  RHS range        [1e+00, 1e+00]\n",
      "Presolve time: 0.02s\n",
      "Presolved: 8120 rows, 435 columns, 24360 nonzeros\n",
      "Variable types: 0 continuous, 435 integer (435 binary)\n",
      "\n",
      "Root relaxation: objective 8.500000e+01, 92 iterations, 0.01 seconds\n",
      "\n",
      "    Nodes    |    Current Node    |     Objective Bounds      |     Work\n",
      " Expl Unexpl |  Obj  Depth IntInf | Incumbent    BestBd   Gap | It/Node Time\n",
      "\n",
      "*    0     0               0      85.0000000   85.00000  0.00%     -    0s\n",
      "\n",
      "Explored 0 nodes (92 simplex iterations) in 0.04 seconds\n",
      "Thread count was 12 (of 12 available processors)\n",
      "\n",
      "Solution count 1: 85 \n",
      "\n",
      "Optimal solution found (tolerance 1.00e-04)\n",
      "Best objective 8.500000000000e+01, best bound 8.500000000000e+01, gap 0.0000%\n"
     ]
    }
   ],
   "source": [
    "n = gp.Model(\"graph\")\n",
    "\n",
    "x = {}\n",
    "#Add vars\n",
    "for i in range(0, m - 1):\n",
    "    for j in range(i + 1, m):\n",
    "        x[i, j] = n.addVar(ub=1, lb=0, vtype=GRB.BINARY,\n",
    "                           name=\"x[\" + str(i) + \",\" + str(j) + \"]\")\n",
    "\n",
    "# Set objective function\n",
    "n.setObjective(\n",
    "    gp.quicksum(c[i][j] * x[i, j] + c[j][i] * (1 - x[i, j])\n",
    "                for j in range(i + 1, m)\n",
    "                for i in range(0, m - 1)), GRB.MINIMIZE)\n",
    "# Set constrs\n",
    "for i, j, k in combinations([i for i in range(m)], 3):\n",
    "    n.addConstr(x[i, j] + x[j, k] - x[i, k] <= 1)\n",
    "    n.addConstr(-x[i, j] - x[j, k] + x[i, k] <= 0)\n",
    "n.Params.Precrush = 1\n",
    "n.Params.lazyConstraints = 1\n",
    "n.Params.Heuristics = 0\n",
    "n.Params.Cuts = 0\n",
    "n.update()\n",
    "n.optimize()"
   ]
  },
  {
   "cell_type": "code",
   "execution_count": 5,
   "id": "1c7a4cf8",
   "metadata": {},
   "outputs": [],
   "source": [
    "import networkx as nx\n",
    "import numpy as np\n",
    "import matplotlib.pyplot as plt  \n",
    "\n",
    "G=nx.Graph()\n",
    "for i in range(5):\n",
    "    G.add_node(i)\n",
    "for i in G.edges:\n",
    "    G.add_weighted_edges_from([(, ,)])"
   ]
  },
  {
   "cell_type": "code",
   "execution_count": 29,
   "id": "10729791",
   "metadata": {},
   "outputs": [],
   "source": [
    "v=1000\n",
    "p=0.1\n",
    "s=0.1\n"
   ]
  },
  {
   "cell_type": "code",
   "execution_count": 30,
   "id": "5078d0c4",
   "metadata": {},
   "outputs": [
    {
     "data": {
      "text/plain": [
       "999.9999999999998"
      ]
     },
     "execution_count": 30,
     "metadata": {},
     "output_type": "execute_result"
    }
   ],
   "source": [
    "sum_v=0\n",
    "for i in range(1,6):\n",
    "    if i<5:\n",
    "        sum_v+=100/((1+s)**i)\n",
    "    else:\n",
    "        sum_v+=1100/((1+s)**i)\n",
    "sum_v\n",
    "    "
   ]
  },
  {
   "cell_type": "code",
   "execution_count": null,
   "id": "adc485ad",
   "metadata": {},
   "outputs": [],
   "source": []
  }
 ],
 "metadata": {
  "kernelspec": {
   "display_name": "Python 3 (ipykernel)",
   "language": "python",
   "name": "python3"
  },
  "language_info": {
   "codemirror_mode": {
    "name": "ipython",
    "version": 3
   },
   "file_extension": ".py",
   "mimetype": "text/x-python",
   "name": "python",
   "nbconvert_exporter": "python",
   "pygments_lexer": "ipython3",
   "version": "3.8.3"
  }
 },
 "nbformat": 4,
 "nbformat_minor": 5
}
